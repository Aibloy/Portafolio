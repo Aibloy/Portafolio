{
 "cells": [
  {
   "cell_type": "markdown",
   "metadata": {},
   "source": [
    "https://www.practicepython.org/"
   ]
  },
  {
   "cell_type": "markdown",
   "metadata": {},
   "source": [
    "# Ejercicio 1\n",
    "\n",
    "Create a program that asks the user to enter their name and their age. Print out a message addressed to them that tells them the year that they will turn 100 years old."
   ]
  },
  {
   "cell_type": "code",
   "execution_count": 2,
   "metadata": {
    "ExecuteTime": {
     "end_time": "2020-05-12T11:03:56.951498Z",
     "start_time": "2020-05-12T11:03:53.264059Z"
    }
   },
   "outputs": [
    {
     "name": "stdout",
     "output_type": "stream",
     "text": [
      "Dime tu Nombre : Will\n",
      "Dime tu edad: 25\n",
      "Te quedan 75 años de vida\n"
     ]
    }
   ],
   "source": [
    "nombre = input(\"Dime tu Nombre : \")\n",
    "edad = int(input(\"Dime tu edad: \"))\n",
    "\n",
    "print(f\"Te quedan {100-edad} años de vida\")"
   ]
  },
  {
   "cell_type": "markdown",
   "metadata": {},
   "source": [
    "# Ejercicio 2\n",
    "Ask the user for a number. Depending on whether the number is even or odd, print out an appropriate message to the user."
   ]
  },
  {
   "cell_type": "code",
   "execution_count": 3,
   "metadata": {
    "ExecuteTime": {
     "end_time": "2020-05-12T11:04:02.781768Z",
     "start_time": "2020-05-12T11:03:59.311974Z"
    }
   },
   "outputs": [
    {
     "name": "stdout",
     "output_type": "stream",
     "text": [
      "Dime un numero: 19\n",
      "El numero 19 es impar\n"
     ]
    }
   ],
   "source": [
    "numero = int(input(\"Dime un numero: \"))\n",
    "\n",
    "if numero % 2 == 0: \n",
    "    print(f\"El numero {numero} es par\")\n",
    "else:\n",
    "    print(f\"El numero {numero} es impar\")"
   ]
  },
  {
   "cell_type": "markdown",
   "metadata": {},
   "source": [
    "# Ejercicio 3\n",
    "Take a list, say for example this one:        \n",
    "\n",
    "a = [1, 1, 2, 3, 5, 8, 13, 21, 34, 55, 89]\n",
    "\n",
    "and write a program that prints out all the elements of the list that are less than 5."
   ]
  },
  {
   "cell_type": "code",
   "execution_count": 5,
   "metadata": {
    "ExecuteTime": {
     "end_time": "2020-05-12T11:04:09.293433Z",
     "start_time": "2020-05-12T11:04:09.290021Z"
    }
   },
   "outputs": [],
   "source": [
    "a = [1, 1, 2, 3, 5, 8, 13, 21, 34, 55, 89]"
   ]
  },
  {
   "cell_type": "code",
   "execution_count": 6,
   "metadata": {
    "ExecuteTime": {
     "end_time": "2020-05-12T11:04:10.451499Z",
     "start_time": "2020-05-12T11:04:10.447500Z"
    }
   },
   "outputs": [
    {
     "name": "stdout",
     "output_type": "stream",
     "text": [
      "1\n",
      "1\n",
      "2\n",
      "3\n"
     ]
    }
   ],
   "source": [
    "# Solución 1: \n",
    "for i in a:\n",
    "    if i<5:\n",
    "        print(i)"
   ]
  },
  {
   "cell_type": "code",
   "execution_count": 7,
   "metadata": {
    "ExecuteTime": {
     "end_time": "2020-05-12T11:04:12.155348Z",
     "start_time": "2020-05-12T11:04:12.143938Z"
    }
   },
   "outputs": [
    {
     "data": {
      "text/plain": [
       "[1, 1, 2, 3]"
      ]
     },
     "execution_count": 7,
     "metadata": {},
     "output_type": "execute_result"
    }
   ],
   "source": [
    "#Solución 2:\n",
    "[x for x in a if x <5]"
   ]
  },
  {
   "cell_type": "markdown",
   "metadata": {},
   "source": [
    "# Ejercicio 4 \n",
    "\n",
    "Create a program that asks the user for a number and then prints out a list of all the divisors of that number. (If you don’t know what a divisor is, it is a number that divides evenly into another number. For example, 13 is a divisor of 26 because 26 / 13 has no remainder.)"
   ]
  },
  {
   "cell_type": "code",
   "execution_count": 8,
   "metadata": {
    "ExecuteTime": {
     "end_time": "2020-05-12T11:04:21.349294Z",
     "start_time": "2020-05-12T11:04:14.143871Z"
    }
   },
   "outputs": [
    {
     "name": "stdout",
     "output_type": "stream",
     "text": [
      "Dime un numero y te diré sus divisores: 14\n",
      "Los divisores de 14 son [1, 2, 7]\n"
     ]
    }
   ],
   "source": [
    "numero = int(input(\"Dime un numero y te diré sus divisores: \"))\n",
    "divisores = []\n",
    "for i in range(1,numero):\n",
    "    if numero % i == 0: \n",
    "        divisores.append(i)\n",
    "print(f\"Los divisores de {numero} son {divisores}\")"
   ]
  },
  {
   "cell_type": "markdown",
   "metadata": {},
   "source": [
    "# Ejercicio 5\n",
    "Take two lists, say for example these two:\n",
    "\n",
    "  a = [1, 1, 2, 3, 5, 8, 13, 21, 34, 55, 89]\n",
    "  \n",
    "  b = [1, 2, 3, 4, 5, 6, 7, 8, 9, 10, 11, 12, 13]\n",
    "  \n",
    "and write a program that returns a list that contains only the elements that are common between the lists (without duplicates). Make sure your program works on two lists of different sizes."
   ]
  },
  {
   "cell_type": "code",
   "execution_count": 9,
   "metadata": {
    "ExecuteTime": {
     "end_time": "2020-05-12T11:04:24.513682Z",
     "start_time": "2020-05-12T11:04:24.507734Z"
    }
   },
   "outputs": [
    {
     "data": {
      "text/plain": [
       "[1, 2, 3, 5, 8, 13]"
      ]
     },
     "execution_count": 9,
     "metadata": {},
     "output_type": "execute_result"
    }
   ],
   "source": [
    "a = [1, 1, 2, 3, 5, 8, 13, 21, 34, 55, 89]\n",
    "b = [1, 2, 3, 4, 5, 6, 7, 8, 9, 10, 11, 12, 13]\n",
    "\n",
    "def comun (a,b):\n",
    "    c = [x for x in a if x in b]\n",
    "    return list(set(c))\n",
    "\n",
    "comun(a,b)"
   ]
  },
  {
   "cell_type": "markdown",
   "metadata": {},
   "source": [
    "# Ejercicio 6\n",
    "Ask the user for a string and print out whether this string is a palindrome or not. (A palindrome is a string that reads the same forwards and backwards.)"
   ]
  },
  {
   "cell_type": "code",
   "execution_count": 10,
   "metadata": {
    "ExecuteTime": {
     "end_time": "2020-05-12T11:04:31.034276Z",
     "start_time": "2020-05-12T11:04:27.307350Z"
    }
   },
   "outputs": [
    {
     "name": "stdout",
     "output_type": "stream",
     "text": [
      "Dime una palabra y te diré si es palindroma : reconocer\n",
      "reconocer es una palabra palindroma\n"
     ]
    }
   ],
   "source": [
    "string = input(\"Dime una palabra y te diré si es palindroma : \")\n",
    "\n",
    "lista = list(string)\n",
    "\n",
    "lista_reversa = lista[::-1]\n",
    "\n",
    "if lista == lista_reversa:\n",
    "    print (f\"{string} es una palabra palindroma\")\n",
    "    \n",
    "else:\n",
    "    print (f\"{string} NO es una palabra palindroma\")\n",
    "    "
   ]
  },
  {
   "cell_type": "markdown",
   "metadata": {},
   "source": [
    "# Ejercicio 7: \n",
    "\n",
    "Let’s say I give you a list saved in a variable: \n",
    "\n",
    "a = [1, 4, 9, 16, 25, 36, 49, 64, 81, 100]\n",
    "\n",
    "Write one line of Python that takes this list a and makes a new list that has only the even elements of this list in it."
   ]
  },
  {
   "cell_type": "code",
   "execution_count": 11,
   "metadata": {
    "ExecuteTime": {
     "end_time": "2020-05-12T11:04:34.408834Z",
     "start_time": "2020-05-12T11:04:34.401850Z"
    }
   },
   "outputs": [
    {
     "data": {
      "text/plain": [
       "[4, 16, 36, 64, 100]"
      ]
     },
     "execution_count": 11,
     "metadata": {},
     "output_type": "execute_result"
    }
   ],
   "source": [
    "a = [1, 4, 9, 16, 25, 36, 49, 64, 81, 100]\n",
    "\n",
    "[elemento for elemento in a if elemento % 2 == 0]"
   ]
  },
  {
   "cell_type": "markdown",
   "metadata": {},
   "source": [
    "# Ejercicio 8: \n",
    "\n",
    "Make a two-player Rock-Paper-Scissors game. (Hint: Ask for player plays (using input), compare them, print out a message of congratulations to the winner, and ask if the players want to start a new game)\n",
    "\n",
    "Remember the rules:\n",
    "\n",
    "- Rock beats scissors\n",
    "- Scissors beats paper\n",
    "- Paper beats rock"
   ]
  },
  {
   "cell_type": "markdown",
   "metadata": {},
   "source": [
    "1 piedra\n",
    "2 papel\n",
    "3 tijeras\n",
    "\n",
    "piedra - papel:  1 -2       -1   X2\n",
    "papel - piedra: 2 -1        1    X1 \n",
    "\n",
    "piedra - tijeras: 1 - 3     -2   X1  \n",
    "tijeras - piedra: 3 -1       2   X2 \n",
    "\n",
    "tijeras - papel: 3 - 2      1     X1\n",
    "papel - tijeras: 2 - 3      -1    X2 \n",
    "\n",
    "X1 : [1,-2]\n",
    "\n",
    "X2 : [-1,2]"
   ]
  },
  {
   "cell_type": "code",
   "execution_count": 1,
   "metadata": {
    "ExecuteTime": {
     "end_time": "2020-05-14T10:59:42.250688Z",
     "start_time": "2020-05-14T10:59:35.080836Z"
    }
   },
   "outputs": [
    {
     "name": "stdout",
     "output_type": "stream",
     "text": [
      "Jugador 1: Introducir nombre: Maria\n",
      " \n",
      "Jugador 2: Introducir nombre: Juan\n",
      " \n",
      " \n",
      "Maria ¿piedra papel o tijeras? : papel\n",
      " \n",
      "Juan ¿piedra papel o tijeras? : tijeras\n",
      " \n",
      " Esta ronda la gana Juan\n",
      " \n",
      "Presione 0 para terminar, 1 si desea jugar una nueva ronda : 0\n",
      " \n",
      "Juego terminado\n"
     ]
    }
   ],
   "source": [
    "ronda = 0\n",
    "nombre_1 = input(\"Jugador 1: Introducir nombre: \")\n",
    "print (\" \")\n",
    "nombre_2 = input(\"Jugador 2: Introducir nombre: \")\n",
    "print (\" \")\n",
    "\n",
    "while ronda == 0:\n",
    "    print(\" \")\n",
    "    jugador_1 = input(f\"{nombre_1} ¿piedra papel o tijeras? : \")\n",
    "    print (\" \")\n",
    "    jugador_2 = input(f\"{nombre_2} ¿piedra papel o tijeras? : \")\n",
    "\n",
    "    diccionario = {\"piedra\": 1, \"papel\":2,\"tijeras\":3}\n",
    "\n",
    "\n",
    "\n",
    "    a = diccionario.get(jugador_1.lower())\n",
    "    b = diccionario.get(jugador_2.lower())\n",
    "\n",
    "    dif = a-b\n",
    "    \n",
    "    if dif == 0:\n",
    "        print (\" \")\n",
    "        print(\"Empate\")\n",
    "    \n",
    "    if dif in [-1,2] : \n",
    "        print (\" \")\n",
    "        print (f\" Esta ronda la gana {nombre_2}\")\n",
    "    \n",
    "    if dif in [1,-2] : \n",
    "\n",
    "        print (\" \")\n",
    "\n",
    "        print (f\" Esta ronda la gana {nombre_1}\")\n",
    "    \n",
    "    print (\" \")\n",
    "    nueva_ronda = int(input(\"Presione 0 para terminar, 1 si desea jugar una nueva ronda : \"))\n",
    "    if nueva_ronda == 0:\n",
    "        print(\" \")\n",
    "        print(\"Juego terminado\")\n",
    "        ronda += 1 \n",
    "        "
   ]
  },
  {
   "cell_type": "markdown",
   "metadata": {},
   "source": [
    "# Ejercicio 9: ***\n",
    "Generate a random number between 1 and 10. Ask the user to guess the number, then tell them whether they guessed too low, too high, or exactly right."
   ]
  },
  {
   "cell_type": "code",
   "execution_count": 51,
   "metadata": {
    "ExecuteTime": {
     "end_time": "2020-05-12T11:29:23.892163Z",
     "start_time": "2020-05-12T11:29:15.976191Z"
    }
   },
   "outputs": [
    {
     "name": "stdout",
     "output_type": "stream",
     "text": [
      "Dime tu nombre, jugador: Pedro\n",
      "Adivina el numero del 1 al 10 (incluidos) 5\n",
      "Casi Pedro, prueba con un numero más pequeño: 3\n",
      "Casi Pedro, prueba con un numero más pequeño: 2\n",
      "Eso es, acertaste Pedro !\n"
     ]
    }
   ],
   "source": [
    "import random\n",
    "\n",
    "jugador = input(\"Dime tu nombre, jugador: \")\n",
    "\n",
    "adivinar = random.randint(1,10)\n",
    "\n",
    "numero_jugador = int(input(\"Adivina el numero del 1 al 10 (incluidos) \"))\n",
    "\n",
    "while numero_jugador != adivinar:\n",
    "    if numero_jugador < adivinar:\n",
    "        numero_jugador = int(input(f\"Casi {jugador}, prueba con un numero más grande: \"))\n",
    "    if numero_jugador > adivinar:\n",
    "        numero_jugador = int(input(f\"Casi {jugador}, prueba con un numero más pequeño: \"))\n",
    "    if numero_jugador == adivinar:\n",
    "        print(f\"Eso es, acertaste {jugador} !\")\n",
    "        "
   ]
  },
  {
   "cell_type": "markdown",
   "metadata": {},
   "source": [
    "# Ejercicio 10: **\n",
    "*Pedía hacer el 5 con list comprehensions, ya se hizo así"
   ]
  },
  {
   "cell_type": "markdown",
   "metadata": {},
   "source": [
    "# Ejercicio 11: ***\n",
    "Ask the user for a number and determine whether the number is prime or not. (For those who have forgotten, a prime number is a number that has no divisors.). You can (and should!) use your answer to Exercise 4 to help you."
   ]
  },
  {
   "cell_type": "code",
   "execution_count": 64,
   "metadata": {
    "ExecuteTime": {
     "end_time": "2020-05-12T11:36:46.534887Z",
     "start_time": "2020-05-12T11:36:45.610068Z"
    }
   },
   "outputs": [
    {
     "name": "stdout",
     "output_type": "stream",
     "text": [
      "Dime un numero y te diré si es primo 5\n",
      "El numero 5 es primo, solo puede dividirse por [1, 5], es decir, por 1 y por si mismo\n"
     ]
    }
   ],
   "source": [
    "numero = int(input(\"Dime un numero y te diré si es primo \"))\n",
    "divisores = []\n",
    "for i in range(1,numero+1):\n",
    "\n",
    "    if numero % i == 0: \n",
    "        divisores.append(i)\n",
    "\n",
    "if len(divisores) == 2:\n",
    "    print(f\"El numero {numero} es primo, solo puede dividirse por {divisores}, es decir, por 1 y por si mismo\")\n",
    "else:\n",
    "    print(f\"El numero {numero} no es primo, estos son sus divisores: {divisores}\")"
   ]
  },
  {
   "cell_type": "markdown",
   "metadata": {},
   "source": [
    "# Ejercicio 12: *\n",
    "Write a program that takes a list of numbers (for example, a = [5, 10, 15, 20, 25]) and makes a new list of only the first and last elements of the given list. For practice, write this code inside a function."
   ]
  },
  {
   "cell_type": "code",
   "execution_count": 67,
   "metadata": {
    "ExecuteTime": {
     "end_time": "2020-05-12T11:38:55.999332Z",
     "start_time": "2020-05-12T11:38:55.994358Z"
    }
   },
   "outputs": [
    {
     "data": {
      "text/plain": [
       "[5, 25]"
      ]
     },
     "execution_count": 67,
     "metadata": {},
     "output_type": "execute_result"
    }
   ],
   "source": [
    "a = [5, 10, 15, 20, 25]\n",
    "\n",
    "def first_last(lista):\n",
    "    return [a[0],a[-1]]\n",
    "\n",
    "first_last(a)"
   ]
  },
  {
   "cell_type": "markdown",
   "metadata": {},
   "source": [
    "# Ejercicio 13: ** \n",
    "Write a program that asks the user how many Fibonnaci numbers to generate and then generates them. Take this opportunity to think about how you can use functions. Make sure to ask the user to enter the number of numbers in the sequence to generate.(Hint: The Fibonnaci seqence is a sequence of numbers where the next number in the sequence is the sum of the previous two numbers in the sequence. The sequence looks like this: 1, 1, 2, 3, 5, 8, 13, …)"
   ]
  },
  {
   "cell_type": "code",
   "execution_count": 81,
   "metadata": {
    "ExecuteTime": {
     "end_time": "2020-05-12T11:51:54.312017Z",
     "start_time": "2020-05-12T11:51:52.502788Z"
    }
   },
   "outputs": [
    {
     "name": "stdout",
     "output_type": "stream",
     "text": [
      "¿Cuantos numeros de Fibonnaci quieres?: 5\n"
     ]
    },
    {
     "data": {
      "text/plain": [
       "[1, 1, 2, 3, 5]"
      ]
     },
     "execution_count": 81,
     "metadata": {},
     "output_type": "execute_result"
    }
   ],
   "source": [
    "def secuencia_fibo():\n",
    "    numero = int(input(\"¿Cuantos numeros de Fibonnaci quieres?: \"))\n",
    "    \n",
    "    fib = []\n",
    "    i = 1\n",
    "    \n",
    "    if numero == 0:\n",
    "        print(fib)\n",
    "    \n",
    "    if numero == 1:\n",
    "        print(1)\n",
    "    \n",
    "    if numero == 2:\n",
    "        print([1,1])\n",
    "    \n",
    "    if numero > 2: \n",
    "        fib = [1,1]\n",
    "        while i < (numero-1):\n",
    "            fib.append(fib[i] + fib[i-1])\n",
    "            i+=1\n",
    "    return fib\n",
    "\n",
    "secuencia_fibo()"
   ]
  },
  {
   "cell_type": "markdown",
   "metadata": {},
   "source": [
    "# Ejercicio 14: **\n",
    "\n",
    "Write a program that takes a list and returns a new list that contains all the elements of the first list minus all the duplicates."
   ]
  },
  {
   "cell_type": "code",
   "execution_count": 92,
   "metadata": {
    "ExecuteTime": {
     "end_time": "2020-05-12T11:58:48.583843Z",
     "start_time": "2020-05-12T11:58:48.576828Z"
    }
   },
   "outputs": [
    {
     "data": {
      "text/plain": [
       "[1, 2, 3, 4, 5]"
      ]
     },
     "execution_count": 92,
     "metadata": {},
     "output_type": "execute_result"
    }
   ],
   "source": [
    "a = [1,2,3,4,3,2,1,4,4,5,1,5,2]\n",
    "unicos = []\n",
    "\n",
    "#Solucion 1\n",
    "for x in a:\n",
    "    if x not in unicos:\n",
    "        unicos.append(x)\n",
    "        \n",
    "#Solucion 2\n",
    "\n",
    "list(set(a))"
   ]
  },
  {
   "cell_type": "markdown",
   "metadata": {},
   "source": [
    "# Ejercicio 15: ***\n",
    "Write a program (using functions!) that asks the user for a long string containing multiple words. Print back to the user the same string, except with the words in backwards order. "
   ]
  },
  {
   "cell_type": "code",
   "execution_count": 110,
   "metadata": {
    "ExecuteTime": {
     "end_time": "2020-05-12T12:11:21.377844Z",
     "start_time": "2020-05-12T12:11:21.369868Z"
    }
   },
   "outputs": [
    {
     "data": {
      "text/plain": [
       "'estas tal que Maria Hola'"
      ]
     },
     "execution_count": 110,
     "metadata": {},
     "output_type": "execute_result"
    }
   ],
   "source": [
    "def reverso(frase):\n",
    "    \n",
    "    palabras = frase.split()\n",
    "    palabras_reverso = palabras[::-1]\n",
    "    frase_reverso = \" \".join(palabras_reverso)\n",
    "    return frase_reverso\n",
    "\n",
    "def reverso_quick(frase):\n",
    "    frase_reverso = \" \".join(frase.split()[::-1])\n",
    "    \n",
    "    return frase_reverso\n",
    "\n",
    "\n",
    "reverso(\"Hola Paco que tal estas\")\n",
    "\n",
    "reverso_quick(\"Hola Maria que tal estas\")"
   ]
  },
  {
   "cell_type": "markdown",
   "metadata": {},
   "source": [
    "# Ejercicio 16: ****\n",
    "\n",
    "Write a password generator in Python.  The passwords should be random, generating a new password every time the user asks for a new password"
   ]
  },
  {
   "cell_type": "code",
   "execution_count": 101,
   "metadata": {
    "ExecuteTime": {
     "end_time": "2020-05-12T12:08:09.124996Z",
     "start_time": "2020-05-12T12:08:09.118976Z"
    }
   },
   "outputs": [
    {
     "data": {
      "text/plain": [
       "[2, 3, 1]"
      ]
     },
     "execution_count": 101,
     "metadata": {},
     "output_type": "execute_result"
    }
   ],
   "source": [
    "a = [1,2,3,4,5]\n",
    "random.sample(a,3)"
   ]
  },
  {
   "cell_type": "code",
   "execution_count": 118,
   "metadata": {
    "ExecuteTime": {
     "end_time": "2020-05-12T12:13:26.601296Z",
     "start_time": "2020-05-12T12:13:24.627154Z"
    },
    "scrolled": true
   },
   "outputs": [
    {
     "name": "stdout",
     "output_type": "stream",
     "text": [
      "¿Cuantos carácteres quieres que tenga la contraseña? 9\n",
      " \n",
      "Aquí tienes tu contraseña: \n"
     ]
    },
    {
     "data": {
      "text/plain": [
       "'1klqg0cñh'"
      ]
     },
     "execution_count": 118,
     "metadata": {},
     "output_type": "execute_result"
    }
   ],
   "source": [
    "import random\n",
    "\n",
    "caracteres = list(\"abcdefghijklmnñopq3stuvwxyz12345678910\")\n",
    "passlen = 8\n",
    "contraseña =  \" \".join(random.sample(s,passlen ))\n",
    "\n",
    "def contraseña():\n",
    "    N = int(input(\"¿Cuantos carácteres quieres que tenga la contraseña? \"))\n",
    "    caracteres_elegidos = random.sample(caracteres,N)\n",
    "    contraseña = \"\".join(caracteres_elegidos)\n",
    "    print(\" \")\n",
    "    print(\"Aquí tienes tu contraseña: \")\n",
    "    return contraseña\n",
    "\n",
    "\n",
    "contraseña()"
   ]
  },
  {
   "cell_type": "markdown",
   "metadata": {},
   "source": [
    "### Ejercicio 17: ****\n",
    "\n",
    "Web scrappling: Use the BeautifulSoup and requests Python packages to print out a list of all the article titles on the New York Times homepage."
   ]
  },
  {
   "cell_type": "markdown",
   "metadata": {},
   "source": [
    "# Ejercicio 18: ***\n",
    "\n",
    "Create a program that will play the “cows and bulls” game with the user. The game works like this:\n",
    "\n",
    "Randomly generate a 4-digit number. Ask the user to guess a 4-digit number. For every digit that the user guessed correctly in the correct place, they have a “cow”. For every digit the user guessed correctly in the wrong place is a “bull.” Every time the user makes a guess, tell them how many “cows” and “bulls” they have. Once the user guesses the correct number, the game is over. Keep track of the number of guesses the user makes throughout teh game and tell the user at the end."
   ]
  },
  {
   "cell_type": "code",
   "execution_count": 42,
   "metadata": {
    "ExecuteTime": {
     "end_time": "2020-05-14T11:43:28.805639Z",
     "start_time": "2020-05-14T11:43:08.346871Z"
    }
   },
   "outputs": [
    {
     "name": "stdout",
     "output_type": "stream",
     "text": [
      "6425 Numero correcto para hacer trampas ;\n",
      "---------------------------------\n",
      "Esta es la ronda: 1\n",
      " \n",
      "Dime un numero de 4 cifras: 64000\n",
      " \n",
      "Ronda no valida, por favor introduce un numero de 4 cifras: \n",
      " \n",
      "Dime un numero de 4 cifras: 6400\n",
      " \n",
      "Tienes 2 cows y 2 bulls\n",
      "---------------------------------\n",
      "Esta es la ronda: 2\n",
      " \n",
      "Prueba con otro numero: 6452\n",
      " \n",
      "Tienes 2 cows y 4 bulls\n",
      "---------------------------------\n",
      "Esta es la ronda: 3\n",
      " \n",
      "Prueba con otro numero: 6425\n",
      " \n",
      "Tienes 4 cows y 4 bulls\n",
      " \n",
      "Enhorabuena! Has adivinado todos los numeros en 4 rondas\n"
     ]
    }
   ],
   "source": [
    "import random \n",
    "\n",
    "n_cows=0             #Correcto\n",
    "n_bulls=0            #buen numero mal sitio\n",
    "adivinar = random.randint(1000,10000)\n",
    "ronda = 1\n",
    "print(str(adivinar) + (\" Numero correcto para hacer trampas ;\"))\n",
    "\n",
    "while n_cows <4:\n",
    "    print(\"---------------------------------\")\n",
    "    print(f\"Esta es la ronda: {ronda}\")\n",
    "    print(\" \")\n",
    "    n_cows=0\n",
    "    n_bulls=0\n",
    "    if ronda == 1:\n",
    "        numero = input(\"Dime un numero de 4 cifras: \")\n",
    "    else:\n",
    "        numero = input(\"Prueba con otro numero: \")\n",
    "        \n",
    "        \n",
    "    numeros_probar = list(numero)\n",
    "    numeros_adivinar = list(str(adivinar))\n",
    "    \n",
    "    if len(numeros_probar) != 4: \n",
    "        \n",
    "        print(\" \")\n",
    "        print(\"Ronda no valida, por favor introduce un numero de 4 cifras: \")\n",
    "        print(\" \")\n",
    "        numero = input(\"Dime un numero de 4 cifras: \")\n",
    "        \n",
    "        if ronda != 1:\n",
    "            ronda += -1 \n",
    "    \n",
    "    ronda +=1 \n",
    "    \n",
    "    for i in range(4):\n",
    "        if numeros_probar[i] == numeros_adivinar[i]:\n",
    "            n_cows += 1\n",
    "            \n",
    "    for i in set(numeros_probar):\n",
    "        if i in numeros_adivinar:\n",
    "            n_bulls += 1 \n",
    "    \n",
    "    print(\" \")\n",
    "    print(f\"Tienes {n_cows} cows y {n_bulls} bulls\")\n",
    "    \n",
    "    if n_cows == 4:\n",
    "        print(\" \")\n",
    "        \n",
    "        print(f\"Enhorabuena! Has adivinado todos los numeros en {ronda} rondas\")\n",
    "        \n",
    "    \n",
    "        \n",
    "    \n",
    "    "
   ]
  },
  {
   "cell_type": "markdown",
   "metadata": {},
   "source": [
    "### Ejercicio 19: ****\n",
    "Web scrappling part two "
   ]
  },
  {
   "cell_type": "markdown",
   "metadata": {},
   "source": [
    "# Ejercicio 20: *\n",
    "Write a function that takes a list and another number,  The function decides whether or not the given number is inside the list and returns (then prints) an appropriate boolean."
   ]
  },
  {
   "cell_type": "code",
   "execution_count": 44,
   "metadata": {
    "ExecuteTime": {
     "end_time": "2020-05-14T11:48:28.885801Z",
     "start_time": "2020-05-14T11:48:28.879815Z"
    }
   },
   "outputs": [
    {
     "data": {
      "text/plain": [
       "True"
      ]
     },
     "execution_count": 44,
     "metadata": {},
     "output_type": "execute_result"
    }
   ],
   "source": [
    "def buscar (lista,elemento):\n",
    "    if elemento in lista:\n",
    "        return True\n",
    "    else:\n",
    "        return False\n",
    "    \n",
    "buscar([1,2,3,4,1,2,4,5,6,1],2)"
   ]
  },
  {
   "cell_type": "markdown",
   "metadata": {},
   "source": [
    "# Ejercicio 21, 22 y 23*: Ejercicios de abrir y leer archivos muy sencillos\n",
    "Open a file and write something"
   ]
  },
  {
   "cell_type": "code",
   "execution_count": null,
   "metadata": {},
   "outputs": [],
   "source": [
    "archivo = open('file_to_save.txt', 'w')\n",
    "archivo.write('Something')\n",
    "archivo.close()"
   ]
  },
  {
   "cell_type": "code",
   "execution_count": null,
   "metadata": {},
   "outputs": [],
   "source": [
    "with open('file_to_save.txt', 'w') as archivo:\n",
    "    archivo.write(\"Something\")\n",
    "    "
   ]
  },
  {
   "cell_type": "markdown",
   "metadata": {},
   "source": [
    "# Ejercicio 24: **\n",
    "Draw a game board"
   ]
  },
  {
   "cell_type": "code",
   "execution_count": 89,
   "metadata": {
    "ExecuteTime": {
     "end_time": "2020-05-14T12:03:31.540545Z",
     "start_time": "2020-05-14T12:03:31.535529Z"
    }
   },
   "outputs": [
    {
     "name": "stdout",
     "output_type": "stream",
     "text": [
      "--- --- --- --- --- --- --- --- --- --- \n",
      "|   |   |   |   |   |   |   |   |   |   \n",
      "--- --- --- --- --- --- --- --- --- --- \n",
      "|   |   |   |   |   |   |   |   |   |   \n",
      "--- --- --- --- --- --- --- --- --- --- \n",
      "|   |   |   |   |   |   |   |   |   |   \n",
      "--- --- --- --- --- --- --- --- --- --- \n",
      "|   |   |   |   |   |   |   |   |   |   \n",
      "--- --- --- --- --- --- --- --- --- --- \n",
      "|   |   |   |   |   |   |   |   |   |   \n",
      "--- --- --- --- --- --- --- --- --- --- \n"
     ]
    }
   ],
   "source": [
    "tic = \"--- \"\n",
    "tac = \"|   \"\n",
    "\n",
    "for i in range(5):\n",
    "    print(tic*10)\n",
    "    print(tac*10)\n",
    "print(tic*10)\n",
    "\n",
    "    \n",
    "\n"
   ]
  },
  {
   "cell_type": "markdown",
   "metadata": {},
   "source": [
    "# Ejercicio 25: ****\n",
    "In a previous exercise, we’ve written a program that “knows” a number and asks a user to guess it.\n",
    "\n",
    "This time, we’re going to do exactly the opposite. You, the user, will have in your head a number between 0 and 100. The program will guess a number, and you, the user, will say whether it is too high, too low, or your number.\n",
    "\n"
   ]
  },
  {
   "cell_type": "code",
   "execution_count": 4,
   "metadata": {
    "ExecuteTime": {
     "end_time": "2020-05-15T15:54:08.957600Z",
     "start_time": "2020-05-15T15:54:00.984034Z"
    }
   },
   "outputs": [
    {
     "name": "stdout",
     "output_type": "stream",
     "text": [
      "Dime un numero entre el 1 y el 100 para intentar adivinarlo 34\n",
      "¿Es mayor o menor que 58? menor\n",
      "¿Es mayor o menor que 13? mayor\n",
      "¿Es mayor o menor que 33? mayor\n",
      "¿Es mayor o menor que 41? menor\n",
      "¿Es mayor o menor que 35? menor\n",
      "Es 34? Qué bien, lo encontré!\n"
     ]
    }
   ],
   "source": [
    "import random\n",
    "class juego():\n",
    "\n",
    "    def __init__(self):\n",
    "        N = int(input(\"Dime un numero entre el 1 y el 100 para intentar adivinarlo \"))\n",
    "        self.N = N\n",
    "        self.probar = None\n",
    "        self.numeros_probar = range(1,100)\n",
    "\n",
    "        while self.probar != self.N:\n",
    "            self.probar = random.sample(self.numeros_probar,1)[0]\n",
    "            if self.probar == self.N:\n",
    "                print(f\"Es {self.probar}? Qué bien, lo encontré!\")\n",
    "            else:\n",
    "                acortar = input(f\"¿Es mayor o menor que {self.probar}? \")\n",
    "                self.__acercarse(acortar)\n",
    "\n",
    "    def __acercarse(self,acortar):\n",
    "        nueva_lista = self.numeros_probar\n",
    "        if acortar == \"mayor\":\n",
    "            nueva_lista = [k for k in nueva_lista if k > self.probar]\n",
    "\n",
    "        if acortar == \"menor\":\n",
    "            nueva_lista = [k for k in nueva_lista if k < self.probar]\n",
    "\n",
    "        self.numeros_probar = nueva_lista\n",
    "        \n",
    "if __name__ == \"__main__\":\n",
    "    juego = juego()"
   ]
  },
  {
   "cell_type": "markdown",
   "metadata": {},
   "source": [
    "La verdad es que este ejercicio me costó un rato, dado que quería hacerlo de forma óptima acortando la lista y no aumentando de 1 en uno como propone el enunciado."
   ]
  },
  {
   "cell_type": "markdown",
   "metadata": {},
   "source": [
    "# Ejercicio 26: **\n",
    "As you may have guessed, we are trying to build up to a full tic-tac-toe board. However, this is significantly more than half an hour of coding, so we’re doing it in pieces.\n",
    "\n",
    "Today, we will simply focus on checking whether someone has WON a game of Tic Tac Toe, not worrying about how the moves were made."
   ]
  },
  {
   "cell_type": "code",
   "execution_count": 237,
   "metadata": {
    "ExecuteTime": {
     "end_time": "2020-05-15T17:27:55.746903Z",
     "start_time": "2020-05-15T17:27:55.735934Z"
    }
   },
   "outputs": [],
   "source": [
    "def fila(fila):\n",
    "    if sum(fila)!=0:\n",
    "        valores=set(fila)\n",
    "        if len(valores) == 1: \n",
    "            return list(valores)[0]\n",
    "    return 0 \n",
    "\n",
    "def ganador(tablero):\n",
    "    ganadores = []\n",
    "    #Ganador por fila:\n",
    "    for i in range(3):\n",
    "        ganadores.append(fila(tablero[i]))\n",
    "        ganador = sum(ganadores)\n",
    "\n",
    "    #Ganador por columna:\n",
    "    tablero_columnas = tablero.T \n",
    "    for i in range(3):\n",
    "        ganadores.append(fila(tablero_columnas[i]))\n",
    "        ganador = sum(ganadores)\n",
    "    \n",
    "    diagonal = tablero.diagonal()\n",
    "    ganadores.append(fila(diagonal))\n",
    "    ganador = sum(ganadores) \n",
    "    if ganador !=0:\n",
    "        print(f\"Ha ganado el jugador {ganador}\")\n",
    "    else:\n",
    "        print(\"No hay ningun ganador\")\n"
   ]
  },
  {
   "cell_type": "code",
   "execution_count": 239,
   "metadata": {
    "ExecuteTime": {
     "end_time": "2020-05-15T17:28:07.182589Z",
     "start_time": "2020-05-15T17:28:07.177601Z"
    }
   },
   "outputs": [
    {
     "name": "stdout",
     "output_type": "stream",
     "text": [
      "Ha ganado el jugador 1\n"
     ]
    }
   ],
   "source": [
    "tablero= np.array([[0,0,1],\n",
    "                  [1, 1, 1],\n",
    "                  [0, 1, 2]])\n",
    "\n",
    "ganador(tablero)"
   ]
  }
 ],
 "metadata": {
  "hide_input": false,
  "kernelspec": {
   "display_name": "Python 3",
   "language": "python",
   "name": "python3"
  },
  "language_info": {
   "codemirror_mode": {
    "name": "ipython",
    "version": 3
   },
   "file_extension": ".py",
   "mimetype": "text/x-python",
   "name": "python",
   "nbconvert_exporter": "python",
   "pygments_lexer": "ipython3",
   "version": "3.7.6"
  },
  "toc": {
   "base_numbering": 1,
   "nav_menu": {},
   "number_sections": true,
   "sideBar": true,
   "skip_h1_title": false,
   "title_cell": "Table of Contents",
   "title_sidebar": "Contents",
   "toc_cell": false,
   "toc_position": {},
   "toc_section_display": true,
   "toc_window_display": false
  },
  "varInspector": {
   "cols": {
    "lenName": 16,
    "lenType": 16,
    "lenVar": 40
   },
   "kernels_config": {
    "python": {
     "delete_cmd_postfix": "",
     "delete_cmd_prefix": "del ",
     "library": "var_list.py",
     "varRefreshCmd": "print(var_dic_list())"
    },
    "r": {
     "delete_cmd_postfix": ") ",
     "delete_cmd_prefix": "rm(",
     "library": "var_list.r",
     "varRefreshCmd": "cat(var_dic_list()) "
    }
   },
   "position": {
    "height": "108.212px",
    "left": "1178.76px",
    "right": "20px",
    "top": "-34.0035px",
    "width": "338.75px"
   },
   "types_to_exclude": [
    "module",
    "function",
    "builtin_function_or_method",
    "instance",
    "_Feature"
   ],
   "window_display": true
  }
 },
 "nbformat": 4,
 "nbformat_minor": 4
}
